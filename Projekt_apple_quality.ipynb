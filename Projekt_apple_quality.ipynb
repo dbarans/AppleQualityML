{
 "cells": [
  {
   "cell_type": "code",
   "execution_count": 1,
   "id": "0b9919df",
   "metadata": {},
   "outputs": [
    {
     "data": {
      "text/html": [
       "<div>\n",
       "<style scoped>\n",
       "    .dataframe tbody tr th:only-of-type {\n",
       "        vertical-align: middle;\n",
       "    }\n",
       "\n",
       "    .dataframe tbody tr th {\n",
       "        vertical-align: top;\n",
       "    }\n",
       "\n",
       "    .dataframe thead th {\n",
       "        text-align: right;\n",
       "    }\n",
       "</style>\n",
       "<table border=\"1\" class=\"dataframe\">\n",
       "  <thead>\n",
       "    <tr style=\"text-align: right;\">\n",
       "      <th></th>\n",
       "      <th>A_id</th>\n",
       "      <th>Size</th>\n",
       "      <th>Weight</th>\n",
       "      <th>Sweetness</th>\n",
       "      <th>Crunchiness</th>\n",
       "      <th>Juiciness</th>\n",
       "      <th>Ripeness</th>\n",
       "      <th>Acidity</th>\n",
       "      <th>Quality</th>\n",
       "    </tr>\n",
       "  </thead>\n",
       "  <tbody>\n",
       "    <tr>\n",
       "      <th>0</th>\n",
       "      <td>0</td>\n",
       "      <td>-3.970049</td>\n",
       "      <td>-2.512336</td>\n",
       "      <td>5.346330</td>\n",
       "      <td>-1.012009</td>\n",
       "      <td>1.844900</td>\n",
       "      <td>0.329840</td>\n",
       "      <td>-0.491590</td>\n",
       "      <td>good</td>\n",
       "    </tr>\n",
       "    <tr>\n",
       "      <th>1</th>\n",
       "      <td>1</td>\n",
       "      <td>-1.195217</td>\n",
       "      <td>-2.839257</td>\n",
       "      <td>3.664059</td>\n",
       "      <td>1.588232</td>\n",
       "      <td>0.853286</td>\n",
       "      <td>0.867530</td>\n",
       "      <td>-0.722809</td>\n",
       "      <td>good</td>\n",
       "    </tr>\n",
       "    <tr>\n",
       "      <th>2</th>\n",
       "      <td>2</td>\n",
       "      <td>-0.292024</td>\n",
       "      <td>-1.351282</td>\n",
       "      <td>-1.738429</td>\n",
       "      <td>-0.342616</td>\n",
       "      <td>2.838636</td>\n",
       "      <td>-0.038033</td>\n",
       "      <td>2.621636</td>\n",
       "      <td>bad</td>\n",
       "    </tr>\n",
       "    <tr>\n",
       "      <th>3</th>\n",
       "      <td>3</td>\n",
       "      <td>-0.657196</td>\n",
       "      <td>-2.271627</td>\n",
       "      <td>1.324874</td>\n",
       "      <td>-0.097875</td>\n",
       "      <td>3.637970</td>\n",
       "      <td>-3.413761</td>\n",
       "      <td>0.790723</td>\n",
       "      <td>good</td>\n",
       "    </tr>\n",
       "    <tr>\n",
       "      <th>4</th>\n",
       "      <td>4</td>\n",
       "      <td>1.364217</td>\n",
       "      <td>-1.296612</td>\n",
       "      <td>-0.384658</td>\n",
       "      <td>-0.553006</td>\n",
       "      <td>3.030874</td>\n",
       "      <td>-1.303849</td>\n",
       "      <td>0.501984</td>\n",
       "      <td>good</td>\n",
       "    </tr>\n",
       "    <tr>\n",
       "      <th>5</th>\n",
       "      <td>5</td>\n",
       "      <td>-3.425400</td>\n",
       "      <td>-1.409082</td>\n",
       "      <td>-1.913511</td>\n",
       "      <td>-0.555775</td>\n",
       "      <td>-3.853071</td>\n",
       "      <td>1.914616</td>\n",
       "      <td>-2.981523</td>\n",
       "      <td>bad</td>\n",
       "    </tr>\n",
       "    <tr>\n",
       "      <th>6</th>\n",
       "      <td>6</td>\n",
       "      <td>1.331606</td>\n",
       "      <td>1.635956</td>\n",
       "      <td>0.875974</td>\n",
       "      <td>-1.677798</td>\n",
       "      <td>3.106344</td>\n",
       "      <td>-1.847417</td>\n",
       "      <td>2.414171</td>\n",
       "      <td>good</td>\n",
       "    </tr>\n",
       "    <tr>\n",
       "      <th>7</th>\n",
       "      <td>7</td>\n",
       "      <td>-1.995462</td>\n",
       "      <td>-0.428958</td>\n",
       "      <td>1.530644</td>\n",
       "      <td>-0.742972</td>\n",
       "      <td>0.158834</td>\n",
       "      <td>0.974438</td>\n",
       "      <td>-1.470125</td>\n",
       "      <td>good</td>\n",
       "    </tr>\n",
       "    <tr>\n",
       "      <th>8</th>\n",
       "      <td>8</td>\n",
       "      <td>-3.867632</td>\n",
       "      <td>-3.734514</td>\n",
       "      <td>0.986429</td>\n",
       "      <td>-1.207655</td>\n",
       "      <td>2.292873</td>\n",
       "      <td>4.080921</td>\n",
       "      <td>-4.871905</td>\n",
       "      <td>bad</td>\n",
       "    </tr>\n",
       "    <tr>\n",
       "      <th>9</th>\n",
       "      <td>9</td>\n",
       "      <td>-0.727983</td>\n",
       "      <td>-0.442820</td>\n",
       "      <td>-4.092223</td>\n",
       "      <td>0.597513</td>\n",
       "      <td>0.393714</td>\n",
       "      <td>1.620857</td>\n",
       "      <td>2.185608</td>\n",
       "      <td>bad</td>\n",
       "    </tr>\n",
       "    <tr>\n",
       "      <th>10</th>\n",
       "      <td>10</td>\n",
       "      <td>-2.699336</td>\n",
       "      <td>-1.329507</td>\n",
       "      <td>-1.418507</td>\n",
       "      <td>-0.625546</td>\n",
       "      <td>2.371074</td>\n",
       "      <td>3.403165</td>\n",
       "      <td>-2.810808</td>\n",
       "      <td>bad</td>\n",
       "    </tr>\n",
       "    <tr>\n",
       "      <th>11</th>\n",
       "      <td>11</td>\n",
       "      <td>2.450960</td>\n",
       "      <td>-0.564177</td>\n",
       "      <td>-1.635041</td>\n",
       "      <td>0.942400</td>\n",
       "      <td>-2.087317</td>\n",
       "      <td>1.214322</td>\n",
       "      <td>1.294324</td>\n",
       "      <td>good</td>\n",
       "    </tr>\n",
       "    <tr>\n",
       "      <th>12</th>\n",
       "      <td>12</td>\n",
       "      <td>-0.170812</td>\n",
       "      <td>-1.867271</td>\n",
       "      <td>-1.771845</td>\n",
       "      <td>2.413155</td>\n",
       "      <td>-3.094555</td>\n",
       "      <td>-0.624884</td>\n",
       "      <td>-2.076114</td>\n",
       "      <td>bad</td>\n",
       "    </tr>\n",
       "    <tr>\n",
       "      <th>13</th>\n",
       "      <td>13</td>\n",
       "      <td>-1.345531</td>\n",
       "      <td>-1.623701</td>\n",
       "      <td>2.044144</td>\n",
       "      <td>1.754813</td>\n",
       "      <td>0.997567</td>\n",
       "      <td>0.434180</td>\n",
       "      <td>1.724026</td>\n",
       "      <td>good</td>\n",
       "    </tr>\n",
       "    <tr>\n",
       "      <th>14</th>\n",
       "      <td>14</td>\n",
       "      <td>2.839581</td>\n",
       "      <td>-0.344798</td>\n",
       "      <td>-1.019797</td>\n",
       "      <td>0.894581</td>\n",
       "      <td>-1.300061</td>\n",
       "      <td>0.582379</td>\n",
       "      <td>1.709708</td>\n",
       "      <td>good</td>\n",
       "    </tr>\n",
       "    <tr>\n",
       "      <th>15</th>\n",
       "      <td>15</td>\n",
       "      <td>-2.659887</td>\n",
       "      <td>-2.795684</td>\n",
       "      <td>4.230404</td>\n",
       "      <td>0.697550</td>\n",
       "      <td>2.180911</td>\n",
       "      <td>-0.088775</td>\n",
       "      <td>-1.083621</td>\n",
       "      <td>good</td>\n",
       "    </tr>\n",
       "  </tbody>\n",
       "</table>\n",
       "</div>"
      ],
      "text/plain": [
       "    A_id      Size    Weight  Sweetness  Crunchiness  Juiciness  Ripeness  \\\n",
       "0      0 -3.970049 -2.512336   5.346330    -1.012009   1.844900  0.329840   \n",
       "1      1 -1.195217 -2.839257   3.664059     1.588232   0.853286  0.867530   \n",
       "2      2 -0.292024 -1.351282  -1.738429    -0.342616   2.838636 -0.038033   \n",
       "3      3 -0.657196 -2.271627   1.324874    -0.097875   3.637970 -3.413761   \n",
       "4      4  1.364217 -1.296612  -0.384658    -0.553006   3.030874 -1.303849   \n",
       "5      5 -3.425400 -1.409082  -1.913511    -0.555775  -3.853071  1.914616   \n",
       "6      6  1.331606  1.635956   0.875974    -1.677798   3.106344 -1.847417   \n",
       "7      7 -1.995462 -0.428958   1.530644    -0.742972   0.158834  0.974438   \n",
       "8      8 -3.867632 -3.734514   0.986429    -1.207655   2.292873  4.080921   \n",
       "9      9 -0.727983 -0.442820  -4.092223     0.597513   0.393714  1.620857   \n",
       "10    10 -2.699336 -1.329507  -1.418507    -0.625546   2.371074  3.403165   \n",
       "11    11  2.450960 -0.564177  -1.635041     0.942400  -2.087317  1.214322   \n",
       "12    12 -0.170812 -1.867271  -1.771845     2.413155  -3.094555 -0.624884   \n",
       "13    13 -1.345531 -1.623701   2.044144     1.754813   0.997567  0.434180   \n",
       "14    14  2.839581 -0.344798  -1.019797     0.894581  -1.300061  0.582379   \n",
       "15    15 -2.659887 -2.795684   4.230404     0.697550   2.180911 -0.088775   \n",
       "\n",
       "     Acidity Quality  \n",
       "0  -0.491590    good  \n",
       "1  -0.722809    good  \n",
       "2   2.621636     bad  \n",
       "3   0.790723    good  \n",
       "4   0.501984    good  \n",
       "5  -2.981523     bad  \n",
       "6   2.414171    good  \n",
       "7  -1.470125    good  \n",
       "8  -4.871905     bad  \n",
       "9   2.185608     bad  \n",
       "10 -2.810808     bad  \n",
       "11  1.294324    good  \n",
       "12 -2.076114     bad  \n",
       "13  1.724026    good  \n",
       "14  1.709708    good  \n",
       "15 -1.083621    good  "
      ]
     },
     "execution_count": 1,
     "metadata": {},
     "output_type": "execute_result"
    }
   ],
   "source": [
    "from sklearn.model_selection import train_test_split, GridSearchCV\n",
    "from sklearn.svm import SVC\n",
    "from sklearn import model_selection, preprocessing, linear_model, naive_bayes, metrics, svm, ensemble\n",
    "import numpy as np\n",
    "import pandas as pd\n",
    "import seaborn as sns\n",
    "import matplotlib.pyplot as plt\n",
    "\n",
    "apples = pd.read_csv('data/apple_quality.csv')\n",
    "apples.head(16)"
   ]
  },
  {
   "cell_type": "code",
   "execution_count": 2,
   "id": "41860c4e",
   "metadata": {},
   "outputs": [
    {
     "name": "stdout",
     "output_type": "stream",
     "text": [
      "              A_id         Size       Weight    Sweetness  Crunchiness  \\\n",
      "count  4000.000000  4000.000000  4000.000000  4000.000000  4000.000000   \n",
      "mean   1999.500000    -0.503015    -0.989547    -0.470479     0.985478   \n",
      "std    1154.844867     1.928059     1.602507     1.943441     1.402757   \n",
      "min       0.000000    -7.151703    -7.149848    -6.894485    -6.055058   \n",
      "25%     999.750000    -1.816765    -2.011770    -1.738425     0.062764   \n",
      "50%    1999.500000    -0.513703    -0.984736    -0.504758     0.998249   \n",
      "75%    2999.250000     0.805526     0.030976     0.801922     1.894234   \n",
      "max    3999.000000     6.406367     5.790714     6.374916     7.619852   \n",
      "\n",
      "         Juiciness     Ripeness      Acidity  \n",
      "count  4000.000000  4000.000000  4000.000000  \n",
      "mean      0.512118     0.498277     0.076877  \n",
      "std       1.930286     1.874427     2.110270  \n",
      "min      -5.961897    -5.864599    -7.010538  \n",
      "25%      -0.801286    -0.771677    -1.377424  \n",
      "50%       0.534219     0.503445     0.022609  \n",
      "75%       1.835976     1.766212     1.510493  \n",
      "max       7.364403     7.237837     7.404736  \n"
     ]
    }
   ],
   "source": [
    "print(apples.describe())"
   ]
  },
  {
   "cell_type": "code",
   "execution_count": 3,
   "id": "919a2241",
   "metadata": {},
   "outputs": [
    {
     "name": "stdout",
     "output_type": "stream",
     "text": [
      "<class 'pandas.core.frame.DataFrame'>\n",
      "RangeIndex: 4000 entries, 0 to 3999\n",
      "Data columns (total 9 columns):\n",
      " #   Column       Non-Null Count  Dtype  \n",
      "---  ------       --------------  -----  \n",
      " 0   A_id         4000 non-null   int64  \n",
      " 1   Size         4000 non-null   float64\n",
      " 2   Weight       4000 non-null   float64\n",
      " 3   Sweetness    4000 non-null   float64\n",
      " 4   Crunchiness  4000 non-null   float64\n",
      " 5   Juiciness    4000 non-null   float64\n",
      " 6   Ripeness     4000 non-null   float64\n",
      " 7   Acidity      4000 non-null   float64\n",
      " 8   Quality      4000 non-null   object \n",
      "dtypes: float64(7), int64(1), object(1)\n",
      "memory usage: 281.4+ KB\n",
      "None\n"
     ]
    }
   ],
   "source": [
    "print(apples.info())"
   ]
  },
  {
   "cell_type": "code",
   "execution_count": 4,
   "id": "ef4dbdf5",
   "metadata": {},
   "outputs": [
    {
     "data": {
      "text/plain": [
       "<Axes: >"
      ]
     },
     "execution_count": 4,
     "metadata": {},
     "output_type": "execute_result"
    },
    {
     "data": {
      "image/png": "[encoded data removed]",
      "text/plain": [
       "<Figure size 640x480 with 1 Axes>"
      ]
     },
     "metadata": {},
     "output_type": "display_data"
    }
   ],
   "source": [
    "apples['Weight'].hist(bins=60)"
   ]
  },
  {
   "cell_type": "code",
   "execution_count": 5,
   "id": "ed20b5aa-c173-48b5-8daa-9e8f599af6ab",
   "metadata": {},
   "outputs": [
    {
     "data": {
      "text/plain": [
       "<Axes: >"
      ]
     },
     "execution_count": 5,
     "metadata": {},
     "output_type": "execute_result"
    },
    {
     "data": {
      "image/png": "[encoded data removed]",
      "text/plain": [
       "<Figure size 640x480 with 1 Axes>"
      ]
     },
     "metadata": {},
     "output_type": "display_data"
    }
   ],
   "source": [
    "apples['Size'].hist(bins=60)"
   ]
  },
  {
   "cell_type": "code",
   "execution_count": 6,
   "id": "edabd92c",
   "metadata": {},
   "outputs": [
    {
     "data": {
      "text/plain": [
       "<Axes: >"
      ]
     },
     "execution_count": 6,
     "metadata": {},
     "output_type": "execute_result"
    },
    {
     "data": {
      "image/png": "[encoded data removed]",
      "text/plain": [
       "<Figure size 640x480 with 1 Axes>"
      ]
     },
     "metadata": {},
     "output_type": "display_data"
    }
   ],
   "source": [
    "apples['Size'].plot.box()"
   ]
  },
  {
   "cell_type": "code",
   "execution_count": 7,
   "id": "baff2481-6fab-4dee-8b58-474b261c739c",
   "metadata": {},
   "outputs": [
    {
     "name": "stdout",
     "output_type": "stream",
     "text": [
      "      A_id      Size    Weight  Sweetness  Crunchiness  Juiciness  Ripeness  \\\n",
      "0        0 -3.970049 -2.512336   5.346330    -1.012009   1.844900  0.329840   \n",
      "1        1 -1.195217 -2.839257   3.664059     1.588232   0.853286  0.867530   \n",
      "2        2 -0.292024 -1.351282  -1.738429    -0.342616   2.838636 -0.038033   \n",
      "3        3 -0.657196 -2.271627   1.324874    -0.097875   3.637970 -3.413761   \n",
      "4        4  1.364217 -1.296612  -0.384658    -0.553006   3.030874 -1.303849   \n",
      "...    ...       ...       ...        ...          ...        ...       ...   \n",
      "3995  3995  0.059386 -1.067408  -3.714549     0.473052   1.697986  2.244055   \n",
      "3996  3996 -0.293118  1.949253  -0.204020    -0.640196   0.024523 -1.087900   \n",
      "3997  3997 -2.634515 -2.138247  -2.440461     0.657223   2.199709  4.763859   \n",
      "3998  3998 -4.008004 -1.779337   2.366397    -0.200329   2.161435  0.214488   \n",
      "3999  3999  0.278540 -1.715505   0.121217    -1.154075   1.266677 -0.776571   \n",
      "\n",
      "       Acidity  Quality  \n",
      "0    -0.491590        1  \n",
      "1    -0.722809        1  \n",
      "2     2.621636        0  \n",
      "3     0.790723        1  \n",
      "4     0.501984        1  \n",
      "...        ...      ...  \n",
      "3995  0.137784        0  \n",
      "3996  1.854235        1  \n",
      "3997 -1.334611        0  \n",
      "3998 -2.229720        1  \n",
      "3999  1.599796        1  \n",
      "\n",
      "[4000 rows x 9 columns]\n"
     ]
    }
   ],
   "source": [
    "#zmiana danych w kolumnie quality na dane numeryczne\n",
    "maps = {\n",
    "    'good': 1,\n",
    "    'bad': 0\n",
    "}\n",
    "apples['Quality'] = apples ['Quality'].apply(lambda x: maps[x])\n",
    "print(apples)"
   ]
  },
  {
   "cell_type": "code",
   "execution_count": 8,
   "id": "084637e3-5243-486c-be88-e5da7ae67549",
   "metadata": {},
   "outputs": [
    {
     "data": {
      "text/html": [
       "<div>\n",
       "<style scoped>\n",
       "    .dataframe tbody tr th:only-of-type {\n",
       "        vertical-align: middle;\n",
       "    }\n",
       "\n",
       "    .dataframe tbody tr th {\n",
       "        vertical-align: top;\n",
       "    }\n",
       "\n",
       "    .dataframe thead th {\n",
       "        text-align: right;\n",
       "    }\n",
       "</style>\n",
       "<table border=\"1\" class=\"dataframe\">\n",
       "  <thead>\n",
       "    <tr style=\"text-align: right;\">\n",
       "      <th></th>\n",
       "      <th>Size</th>\n",
       "      <th>Weight</th>\n",
       "      <th>Sweetness</th>\n",
       "      <th>Crunchiness</th>\n",
       "      <th>Juiciness</th>\n",
       "      <th>Ripeness</th>\n",
       "      <th>Acidity</th>\n",
       "      <th>Quality</th>\n",
       "    </tr>\n",
       "  </thead>\n",
       "  <tbody>\n",
       "    <tr>\n",
       "      <th>0</th>\n",
       "      <td>-3.970049</td>\n",
       "      <td>-2.512336</td>\n",
       "      <td>5.346330</td>\n",
       "      <td>-1.012009</td>\n",
       "      <td>1.844900</td>\n",
       "      <td>0.329840</td>\n",
       "      <td>-0.491590</td>\n",
       "      <td>1</td>\n",
       "    </tr>\n",
       "    <tr>\n",
       "      <th>1</th>\n",
       "      <td>-1.195217</td>\n",
       "      <td>-2.839257</td>\n",
       "      <td>3.664059</td>\n",
       "      <td>1.588232</td>\n",
       "      <td>0.853286</td>\n",
       "      <td>0.867530</td>\n",
       "      <td>-0.722809</td>\n",
       "      <td>1</td>\n",
       "    </tr>\n",
       "    <tr>\n",
       "      <th>2</th>\n",
       "      <td>-0.292024</td>\n",
       "      <td>-1.351282</td>\n",
       "      <td>-1.738429</td>\n",
       "      <td>-0.342616</td>\n",
       "      <td>2.838636</td>\n",
       "      <td>-0.038033</td>\n",
       "      <td>2.621636</td>\n",
       "      <td>0</td>\n",
       "    </tr>\n",
       "    <tr>\n",
       "      <th>3</th>\n",
       "      <td>-0.657196</td>\n",
       "      <td>-2.271627</td>\n",
       "      <td>1.324874</td>\n",
       "      <td>-0.097875</td>\n",
       "      <td>3.637970</td>\n",
       "      <td>-3.413761</td>\n",
       "      <td>0.790723</td>\n",
       "      <td>1</td>\n",
       "    </tr>\n",
       "    <tr>\n",
       "      <th>4</th>\n",
       "      <td>1.364217</td>\n",
       "      <td>-1.296612</td>\n",
       "      <td>-0.384658</td>\n",
       "      <td>-0.553006</td>\n",
       "      <td>3.030874</td>\n",
       "      <td>-1.303849</td>\n",
       "      <td>0.501984</td>\n",
       "      <td>1</td>\n",
       "    </tr>\n",
       "    <tr>\n",
       "      <th>...</th>\n",
       "      <td>...</td>\n",
       "      <td>...</td>\n",
       "      <td>...</td>\n",
       "      <td>...</td>\n",
       "      <td>...</td>\n",
       "      <td>...</td>\n",
       "      <td>...</td>\n",
       "      <td>...</td>\n",
       "    </tr>\n",
       "    <tr>\n",
       "      <th>3995</th>\n",
       "      <td>0.059386</td>\n",
       "      <td>-1.067408</td>\n",
       "      <td>-3.714549</td>\n",
       "      <td>0.473052</td>\n",
       "      <td>1.697986</td>\n",
       "      <td>2.244055</td>\n",
       "      <td>0.137784</td>\n",
       "      <td>0</td>\n",
       "    </tr>\n",
       "    <tr>\n",
       "      <th>3996</th>\n",
       "      <td>-0.293118</td>\n",
       "      <td>1.949253</td>\n",
       "      <td>-0.204020</td>\n",
       "      <td>-0.640196</td>\n",
       "      <td>0.024523</td>\n",
       "      <td>-1.087900</td>\n",
       "      <td>1.854235</td>\n",
       "      <td>1</td>\n",
       "    </tr>\n",
       "    <tr>\n",
       "      <th>3997</th>\n",
       "      <td>-2.634515</td>\n",
       "      <td>-2.138247</td>\n",
       "      <td>-2.440461</td>\n",
       "      <td>0.657223</td>\n",
       "      <td>2.199709</td>\n",
       "      <td>4.763859</td>\n",
       "      <td>-1.334611</td>\n",
       "      <td>0</td>\n",
       "    </tr>\n",
       "    <tr>\n",
       "      <th>3998</th>\n",
       "      <td>-4.008004</td>\n",
       "      <td>-1.779337</td>\n",
       "      <td>2.366397</td>\n",
       "      <td>-0.200329</td>\n",
       "      <td>2.161435</td>\n",
       "      <td>0.214488</td>\n",
       "      <td>-2.229720</td>\n",
       "      <td>1</td>\n",
       "    </tr>\n",
       "    <tr>\n",
       "      <th>3999</th>\n",
       "      <td>0.278540</td>\n",
       "      <td>-1.715505</td>\n",
       "      <td>0.121217</td>\n",
       "      <td>-1.154075</td>\n",
       "      <td>1.266677</td>\n",
       "      <td>-0.776571</td>\n",
       "      <td>1.599796</td>\n",
       "      <td>1</td>\n",
       "    </tr>\n",
       "  </tbody>\n",
       "</table>\n",
       "<p>4000 rows × 8 columns</p>\n",
       "</div>"
      ],
      "text/plain": [
       "          Size    Weight  Sweetness  Crunchiness  Juiciness  Ripeness  \\\n",
       "0    -3.970049 -2.512336   5.346330    -1.012009   1.844900  0.329840   \n",
       "1    -1.195217 -2.839257   3.664059     1.588232   0.853286  0.867530   \n",
       "2    -0.292024 -1.351282  -1.738429    -0.342616   2.838636 -0.038033   \n",
       "3    -0.657196 -2.271627   1.324874    -0.097875   3.637970 -3.413761   \n",
       "4     1.364217 -1.296612  -0.384658    -0.553006   3.030874 -1.303849   \n",
       "...        ...       ...        ...          ...        ...       ...   \n",
       "3995  0.059386 -1.067408  -3.714549     0.473052   1.697986  2.244055   \n",
       "3996 -0.293118  1.949253  -0.204020    -0.640196   0.024523 -1.087900   \n",
       "3997 -2.634515 -2.138247  -2.440461     0.657223   2.199709  4.763859   \n",
       "3998 -4.008004 -1.779337   2.366397    -0.200329   2.161435  0.214488   \n",
       "3999  0.278540 -1.715505   0.121217    -1.154075   1.266677 -0.776571   \n",
       "\n",
       "       Acidity  Quality  \n",
       "0    -0.491590        1  \n",
       "1    -0.722809        1  \n",
       "2     2.621636        0  \n",
       "3     0.790723        1  \n",
       "4     0.501984        1  \n",
       "...        ...      ...  \n",
       "3995  0.137784        0  \n",
       "3996  1.854235        1  \n",
       "3997 -1.334611        0  \n",
       "3998 -2.229720        1  \n",
       "3999  1.599796        1  \n",
       "\n",
       "[4000 rows x 8 columns]"
      ]
     },
     "execution_count": 8,
     "metadata": {},
     "output_type": "execute_result"
    }
   ],
   "source": [
    "#wyrzucenie zbędnej kolumny A_id\n",
    "apples.drop(['A_id'], axis=1, inplace = True)\n",
    "apples"
   ]
  },
  {
   "cell_type": "code",
   "execution_count": 9,
   "id": "3d14a034",
   "metadata": {},
   "outputs": [
    {
     "data": {
      "image/png": "[encoded data removed]",
      "text/plain": [
       "<Figure size 800x800 with 2 Axes>"
      ]
     },
     "metadata": {},
     "output_type": "display_data"
    }
   ],
   "source": [
    "#generowanie macierzy korelacji\n",
    "correlations = apples.corr(numeric_only=True)\n",
    "fig, ax = plt.subplots(figsize=(8, 8))\n",
    "\n",
    "colormap = sns.color_palette(\"BrBG\", 10)\n",
    "\n",
    "sns.heatmap(correlations, \n",
    "    cmap=colormap, \n",
    "    annot=True, \n",
    "    fmt=\".2f\")\n",
    "ax.set_yticklabels(apples.columns);\n",
    "\n",
    "plt.show()"
   ]
  },
  {
   "cell_type": "code",
   "execution_count": 10,
   "id": "964c273b",
   "metadata": {},
   "outputs": [
    {
     "data": {
      "text/plain": [
       "array([[-3.97004852, -2.51233638,  5.34632961, ...,  1.84490036,\n",
       "         0.3298398 , -0.49159048],\n",
       "       [-1.19521719, -2.83925653,  3.66405876, ...,  0.8532858 ,\n",
       "         0.86753008, -0.72280937],\n",
       "       [-0.29202386, -1.35128199, -1.73842916, ...,  2.83863551,\n",
       "        -0.03803333,  2.62163647],\n",
       "       ...,\n",
       "       [-2.6345153 , -2.13824672, -2.44046129, ...,  2.19970859,\n",
       "         4.76385918, -1.33461139],\n",
       "       [-4.00800374, -1.77933711,  2.36639697, ...,  2.16143512,\n",
       "         0.21448838, -2.22971981],\n",
       "       [ 0.27853965, -1.71550503,  0.12121725, ...,  1.2666774 ,\n",
       "        -0.77657147,  1.59979646]])"
      ]
     },
     "execution_count": 10,
     "metadata": {},
     "output_type": "execute_result"
    }
   ],
   "source": [
    "#generowanko macierzy z kolumny Quality do modelu trenującego\n",
    "X = apples.drop('Quality', axis=1).to_numpy()\n",
    "X"
   ]
  },
  {
   "cell_type": "code",
   "execution_count": 11,
   "id": "cc09e23e-5424-463a-91af-056e63a3d844",
   "metadata": {},
   "outputs": [
    {
     "data": {
      "text/plain": [
       "array([1, 1, 0, ..., 0, 1, 1], dtype=int64)"
      ]
     },
     "execution_count": 11,
     "metadata": {},
     "output_type": "execute_result"
    }
   ],
   "source": [
    "#generowanko etykiet\n",
    "y = apples.loc[:, 'Quality'].to_numpy()\n",
    "y"
   ]
  },
  {
   "cell_type": "code",
   "execution_count": 12,
   "id": "feb9815d-e5c0-42d4-9582-247781611635",
   "metadata": {},
   "outputs": [],
   "source": [
    "#podział danych na zbiory treningowe i testowe\n",
    "X_train, X_test, y_train, y_test = train_test_split(X, y, test_size=0.2, random_state=1234) "
   ]
  },
  {
   "cell_type": "code",
   "execution_count": 13,
   "id": "7e1a9c3c-6f84-4f3d-9ccb-04e33ca2333b",
   "metadata": {},
   "outputs": [],
   "source": [
    "def train_model(classifier, feature_vector_train, label, feature_vector_valid):\n",
    "\n",
    "    classifier.fit(feature_vector_train, label)\n",
    "    predictions = classifier.predict(feature_vector_valid)\n",
    "    scores = list(metrics.precision_recall_fscore_support(predictions, y_test))\n",
    "    score_vals = [\n",
    "            scores[0][0],  #Precyzja klasy 0 \n",
    "            scores[1][0],  #Czułość klasy 0\n",
    "            scores[2][0]   #F1-Score klasy 0\n",
    "    ]\n",
    "    score_vals.append(metrics.accuracy_score(predictions, y_test))\n",
    "    return score_vals"
   ]
  },
  {
   "cell_type": "code",
   "execution_count": 14,
   "id": "e88fd5b7-35f4-4359-986c-fce3935795ef",
   "metadata": {},
   "outputs": [
    {
     "name": "stdout",
     "output_type": "stream",
     "text": [
      "LR:  [0.7095959595959596, 0.7433862433862434, 0.7260981912144703, 0.735]\n"
     ]
    }
   ],
   "source": [
    "#model regresji logistycznej (Logistic regression)\n",
    "scaler = preprocessing.StandardScaler()\n",
    "X_train_scaled = scaler.fit_transform(X_train)\n",
    "X_test_scaled = scaler.transform(X_test)\n",
    "\n",
    "logistic_model = linear_model.LogisticRegression(solver='lbfgs', max_iter=1000)\n",
    "accuracy = train_model(logistic_model, X_train_scaled, y_train, X_test_scaled)\n",
    "accuracy_compare = {'LR': accuracy}\n",
    "\n",
    "print (\"LR: \", accuracy)"
   ]
  },
  {
   "cell_type": "code",
   "execution_count": 15,
   "id": "8f425c19-a07d-41c8-aefa-21601ce20dfa",
   "metadata": {},
   "outputs": [
    {
     "name": "stdout",
     "output_type": "stream",
     "text": [
      "SVM [0.8535353535353535, 0.9037433155080213, 0.8779220779220779, 0.8825]\n"
     ]
    }
   ],
   "source": [
    "#model maszyny wektorów nośnych (Support Vector Machine)\n",
    "accuracy = train_model(svm.SVC(), X_train, y_train, X_test)\n",
    "accuracy_compare['SVM'] = accuracy\n",
    "print (\"SVM\" , accuracy)"
   ]
  },
  {
   "cell_type": "code",
   "execution_count": 16,
   "id": "010a6256-9543-4e9f-9718-b8ccc3733a7e",
   "metadata": {},
   "outputs": [
    {
     "name": "stdout",
     "output_type": "stream",
     "text": [
      "RF:  [0.8611111111111112, 0.899736147757256, 0.8799999999999999, 0.88375]\n"
     ]
    }
   ],
   "source": [
    "#model lasu losowego (Random Forest)\n",
    "accuracy = train_model(ensemble.RandomForestClassifier(), X_train, y_train, X_test)\n",
    "accuracy_compare['RF'] = accuracy\n",
    "print (\"RF: \", accuracy)"
   ]
  },
  {
   "cell_type": "code",
   "execution_count": 17,
   "id": "481471ee-aa81-46e3-9739-26dabaf5cf85",
   "metadata": {},
   "outputs": [
    {
     "data": {
      "text/plain": [
       "<Axes: >"
      ]
     },
     "execution_count": 17,
     "metadata": {},
     "output_type": "execute_result"
    },
    {
     "data": {
      "image/png": "[encoded data removed]",
      "text/plain": [
       "<Figure size 640x480 with 1 Axes>"
      ]
     },
     "metadata": {},
     "output_type": "display_data"
    }
   ],
   "source": [
    "#porównanie graficzne modeli\n",
    "df_compare = pd.DataFrame(accuracy_compare, index = ['precision', 'recall', 'f1 score', 'accuracy'])\n",
    "df_compare.plot(kind='bar')"
   ]
  },
  {
   "cell_type": "code",
   "execution_count": 18,
   "id": "4e124d05-e701-418e-8023-8c9ebd29950b",
   "metadata": {},
   "outputs": [
    {
     "name": "stdout",
     "output_type": "stream",
     "text": [
      "Neural network [0.9040404040404041, 0.9179487179487179, 0.910941475826972, 0.9125]\n"
     ]
    }
   ],
   "source": [
    "#model sztucznej sieci neuronowej\n",
    "from sklearn.neural_network import MLPClassifier\n",
    "mlp = MLPClassifier(hidden_layer_sizes=(10, 10, 10), max_iter=1000)\n",
    "accuracy = train_model(mlp, X_train, y_train, X_test)\n",
    "accuracy_compare['Neural network'] = accuracy\n",
    "print (\"Neural network\" , accuracy)"
   ]
  },
  {
   "cell_type": "code",
   "execution_count": 19,
   "id": "90b7eba7-0872-44d1-bb77-5352c57793ce",
   "metadata": {},
   "outputs": [
    {
     "name": "stdout",
     "output_type": "stream",
     "text": [
      "Best degree: {'degree': 2}\n"
     ]
    }
   ],
   "source": [
    "#strojenie hiperparametrów\n",
    "param_grid = {'degree': [2, 3, 4, 5, 6, 7]}  \n",
    "\n",
    "svm_model = SVC(kernel='sigmoid')\n",
    "grid_search = GridSearchCV(svm_model, param_grid, cv=5)\n",
    "grid_search.fit(X_train, y_train)\n",
    "\n",
    "print(\"Best degree:\", grid_search.best_params_)"
   ]
  },
  {
   "cell_type": "code",
   "execution_count": 20,
   "id": "9ea3b2ae-4d58-42c1-b140-ae2b47c7a282",
   "metadata": {},
   "outputs": [
    {
     "name": "stdout",
     "output_type": "stream",
     "text": [
      "SVM gamma='auto': [0.898989898989899, 0.9368421052631579, 0.9175257731958762, 0.92]\n",
      "SVM kernel='sigmoid': [0.5075757575757576, 0.5, 0.5037593984962406, 0.505]\n",
      "SVM degree=2: [0.8535353535353535, 0.9037433155080213, 0.8779220779220779, 0.8825]\n"
     ]
    }
   ],
   "source": [
    "#dodatkowe modele maszyny wektorów nośnych\n",
    "accuracy_compare['SVM_gamma_auto'] = train_model(svm.SVC(gamma='auto'), X_train, y_train, X_test)\n",
    "accuracy_compare['SVM_kernel_sigmoid'] = train_model(svm.SVC(kernel='sigmoid'), X_train, y_train, X_test)\n",
    "accuracy_compare['SVM_degree_2'] = train_model(svm.SVC(degree=2), X_train, y_train, X_test)\n",
    "\n",
    "print(\"SVM gamma='auto':\", accuracy_compare['SVM_gamma_auto'])\n",
    "print(\"SVM kernel='sigmoid':\", accuracy_compare['SVM_kernel_sigmoid'])\n",
    "print(\"SVM degree=2:\", accuracy_compare['SVM_degree_2'])"
   ]
  }
 ],
 "metadata": {
  "kernelspec": {
   "display_name": "Python 3 (ipykernel)",
   "language": "python",
   "name": "python3"
  },
  "language_info": {
   "codemirror_mode": {
    "name": "ipython",
    "version": 3
   },
   "file_extension": ".py",
   "mimetype": "text/x-python",
   "name": "python",
   "nbconvert_exporter": "python",
   "pygments_lexer": "ipython3",
   "version": "3.11.5"
  }
 },
 "nbformat": 4,
 "nbformat_minor": 5
}
